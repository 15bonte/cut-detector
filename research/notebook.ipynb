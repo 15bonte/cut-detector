{
 "cells": [
  {
   "cell_type": "markdown",
   "metadata": {},
   "source": [
    "# MidBody Research Notebook"
   ]
  },
  {
   "cell_type": "markdown",
   "metadata": {},
   "source": [
    "Detection Methods:\n",
    "- lapgau:  minmax_log, min_sigma=5, max_sigma=10, num_sigma=5,     threshold=0.1\n",
    "- diffgau: minmax_dog, min_sigma=2, max_sigma=5,  sigma_ratio=1.2, threshold=0.1,\n",
    "- hessian: minmax_doh, min_sigma=5, max_sigma=10, num_sigma=5,     threshold=0.0040\n",
    "\n",
    "All three use the same tracking method:\n",
    "SLT_MAX_DISTANCE = 175\n",
    "slt_dist = partial(\n",
    "    spatial_intensity_dist,\n",
    "    max_distance       = SLT_MAX_DISTANCE,\n",
    "    mklp_weight_factor = 5.0,\n",
    "    sir_weight_factor  = 1.50,\n",
    ")\n",
    "SpatialLapTrack(\n",
    "    spatial_coord_slice         = slice(0,2),\n",
    "    spatial_metric              = \"euclidean\",\n",
    "    track_dist_metric           = slt_dist,\n",
    "    track_cost_cutoff           = SLT_MAX_DISTANCE,\n",
    "    gap_closing_dist_metric     = slt_dist,\n",
    "    gap_closing_cost_cutoff     = SLT_MAX_DISTANCE,\n",
    "    gap_closing_max_frame_count = 3,\n",
    "    splitting_cost_cutoff       = False,\n",
    "    merging_cost_cutoff         = False,\n",
    "    alternative_cost_percentile = 100,\n",
    ")\n",
    "\n",
    "With select_best_track enabled\n",
    "\n",
    "\n",
    "Time measurement is around the call to \"perform_midbody_detection\""
   ]
  },
  {
   "cell_type": "markdown",
   "metadata": {},
   "source": [
    "# WARNING:\n",
    "A bug has been found, preventing the results to be saved. Consequence is that the 'perf' fields are incorrect.\n",
    "The time fields are correct however."
   ]
  },
  {
   "cell_type": "markdown",
   "metadata": {},
   "source": [
    "## No Parallelization"
   ]
  },
  {
   "cell_type": "markdown",
   "metadata": {},
   "source": [
    "### H-maxima\n",
    "- Data Standard:\n",
    "    - perf: 88.89% | 56/63\n",
    "    - time:\n",
    "        - v 1/5: 804.465s\n",
    "        - v 2/5: 740.106s\n",
    "        - v 3/5: 697.623s\n",
    "        - v 4/5: 492.439s\n",
    "        - v 5/5: 265.139s\n",
    "\n",
    "- Data Spastin:\n",
    "    - perf: 70.59% | 12/17\n",
    "    - time:\n",
    "        - v 1/2: 202.500s\n",
    "        - v 2/2: 528.444s\n",
    "\n",
    "- Data Cep55:\n",
    "    - perf: 92.86% | 39/42\n",
    "    - time:\n",
    "        - v 1/3: 476.161s\n",
    "        - v 2/3: 555.844s\n",
    "        - v 3/3: 1678.352s\n",
    "\n",
    "(runtime total: 6437s -> 107min -> 1h47m)"
   ]
  },
  {
   "cell_type": "markdown",
   "metadata": {},
   "source": [
    "#### Wrong Detections\n",
    "- Standard:\n",
    "    - converted t2_t3_F-1E5-35-12_mitosis_29_10_to_37.bin: detected 0% with avg distance 1000\n",
    "    - converted t2_t3_F-1E5-35-12_mitosis_22_13_to_77.bin: detected 0% with avg distance 1000\n",
    "    - converted t2_t3_F-1E5-35-12_mitosis_4_13_to_189.bin: detected 62% with avg distance 6\n",
    "    - converted t2_t3_F-1E5-35-8_mitosis_16_120_to_164.bin: detected 0% with avg distance 1000\n",
    "    - converted t2_t3_F-1E5-35-11_mitosis_25_6_to_49.bin: detected 0% with avg distance 1000\n",
    "    - converted t2_t3_F-1E5-35-8_mitosis_9_95_to_196.bin: detected 100% with avg distance 135\n",
    "    - converted t2_t3_F-1E5-35-12_mitosis_12_48_to_129.bin: detected 66% with avg distance 10\n",
    "\n",
    "- Spastin:\n",
    "    - 20231019-t1_siSpastin-50-1_mitosis_18_10_to_17.bin: detected 100% with avg distance 52\n",
    "    - 20231019-t1_siSpastin-50-1_mitosis_16_5_to_25.bin: detected 0% with avg distance 1000\n",
    "    - 20231019-t1_siSpastin-50-1_mitosis_17_0_to_20.bin: detected 100% with avg distance 15\n",
    "    - 20231019-t1_siSpastin-50-2_mitosis_31_20_to_41.bin: detected 87% with avg distance 3\n",
    "    - 20231019-t1_siSpastin-50-2_mitosis_32_0_to_37.bin: detected 75% with avg distance 9\n",
    "\n",
    "- Cep55:\n",
    "    - 20231019-t1_siCep55-50-4_mitosis_5_8_to_228.bin: detected 100% with avg distance 70\n",
    "    - 20231019-t1_siCep55-50-4_mitosis_24_17_to_104.bin: detected 20% with avg distance 192\n",
    "    - 20231019-t1_siCep55-50-4_mitosis_29_18_to_81.bin: detected 100% with avg distance 127"
   ]
  },
  {
   "cell_type": "markdown",
   "metadata": {},
   "source": [
    "### LapGau\n",
    "- Data Standard:\n",
    "    - perf: 88.89% | 56/63\n",
    "    - time:\n",
    "        - v 1/5: 558.160s\n",
    "        - v 2/5: 647.936s\n",
    "        - v 3/5: 588.004s\n",
    "        - v 4/5: 468.152s\n",
    "        - v 5/5: 264.667s\n",
    "\n",
    "- Data Spastin:\n",
    "    - perf: 70.59% | 12/17\n",
    "    - time:\n",
    "        - v 1/2: 126.696s\n",
    "        - v 2/2: 330.751s\n",
    "\n",
    "- Data Cep55:\n",
    "    - perf: 92.86% | 39/42\n",
    "    - time:\n",
    "        - v 1/3: 262.188s\n",
    "        - v 2/3: 311.105s\n",
    "        - v 3/3: 778.295s\n",
    "\n",
    "(full runtime: ~4332s -> ~1h12m)"
   ]
  },
  {
   "cell_type": "markdown",
   "metadata": {},
   "source": [
    "#### Wrong Detections\n",
    "- Standard:\n",
    "    - converted t2_t3_F-1E5-35-12_mitosis_29_10_to_37.bin: detected 0% with avg distance 1000\n",
    "    - converted t2_t3_F-1E5-35-12_mitosis_22_13_to_77.bin: detected 0% with avg distance 1000\n",
    "    - converted t2_t3_F-1E5-35-12_mitosis_4_13_to_189.bin: detected 62% with avg distance 6\n",
    "    - converted t2_t3_F-1E5-35-8_mitosis_16_120_to_164.bin: detected 0% with avg distance 1000\n",
    "    - converted t2_t3_F-1E5-35-11_mitosis_25_6_to_49.bin: detected 0% with avg distance 1000\n",
    "    - converted t2_t3_F-1E5-35-8_mitosis_9_95_to_196.bin: detected 100% with avg distance 135\n",
    "    - converted t2_t3_F-1E5-35-12_mitosis_12_48_to_129.bin: detected 66% with avg distance 10\n",
    "\n",
    "- Spastin:\n",
    "    - 20231019-t1_siSpastin-50-1_mitosis_18_10_to_17.bin: detected 100% with avg distance 52\n",
    "    - 20231019-t1_siSpastin-50-1_mitosis_16_5_to_25.bin: detected 0% with avg distance 1000\n",
    "    - 20231019-t1_siSpastin-50-1_mitosis_17_0_to_20.bin: detected 100% with avg distance 15\n",
    "    - 20231019-t1_siSpastin-50-2_mitosis_31_20_to_41.bin: detected 87% with avg distance 3\n",
    "    - 20231019-t1_siSpastin-50-2_mitosis_32_0_to_37.bin: detected 75% with avg distance 9\n",
    "\n",
    "- Cep55:\n",
    "    - 20231019-t1_siCep55-50-4_mitosis_5_8_to_228.bin: detected 100% with avg distance 70\n",
    "    - 20231019-t1_siCep55-50-4_mitosis_24_17_to_104.bin: detected 20% with avg distance 192\n",
    "    - 20231019-t1_siCep55-50-4_mitosis_29_18_to_81.bin: detected 100% with avg distance 127"
   ]
  },
  {
   "cell_type": "markdown",
   "metadata": {},
   "source": [
    "### DiffGau\n",
    "- Data Standard:\n",
    "    - perf: 88.89% | 56/63\n",
    "    - time (per video):\n",
    "        - v 1/5: 365.034s\n",
    "        - v 2/5: 457.251s\n",
    "        - v 3/5: 382.051s\n",
    "        - v 4/5: 329.337s\n",
    "        - v 5/5: 191.369s\n",
    "\n",
    "- Data Spastin:\n",
    "    - perf: 70.59% | 12/17\n",
    "    - time:\n",
    "        - v 1/2: 79.169s\n",
    "        - v 2/2: 197.620s\n",
    "\n",
    "- Data Cep55:\n",
    "    - perf: 92.86% | 39/42\n",
    "    - time:\n",
    "        - v 1/3: 165.024s\n",
    "        - v 2/3: 189.413s\n",
    "        - v 3/3: 451.867s\n",
    "\n",
    "(full runtime: ~2805s -> 47min)"
   ]
  },
  {
   "cell_type": "markdown",
   "metadata": {},
   "source": [
    "#### Wrong Detections:\n",
    "- Standard:\n",
    "    - converted t2_t3_F-1E5-35-12_mitosis_29_10_to_37.bin: detected 0% with avg distance 1000\n",
    "    - converted t2_t3_F-1E5-35-12_mitosis_22_13_to_77.bin: detected 0% with avg distance 1000\n",
    "    - converted t2_t3_F-1E5-35-12_mitosis_4_13_to_189.bin: detected 62% with avg distance 6\n",
    "    - converted t2_t3_F-1E5-35-8_mitosis_16_120_to_164.bin: detected 0% with avg distance 1000\n",
    "    - converted t2_t3_F-1E5-35-11_mitosis_25_6_to_49.bin: detected 0% with avg distance 1000\n",
    "    - converted t2_t3_F-1E5-35-8_mitosis_9_95_to_196.bin: detected 100% with avg distance 135\n",
    "    - converted t2_t3_F-1E5-35-12_mitosis_12_48_to_129.bin: detected 66% with avg distance 10\n",
    "\n",
    "- Spastin:\n",
    "    - 20231019-t1_siSpastin-50-1_mitosis_18_10_to_17.bin: detected 100% with avg distance 52\n",
    "    - 20231019-t1_siSpastin-50-1_mitosis_16_5_to_25.bin: detected 0% with avg distance 1000\n",
    "    - 20231019-t1_siSpastin-50-1_mitosis_17_0_to_20.bin: detected 100% with avg distance 15\n",
    "    - 20231019-t1_siSpastin-50-2_mitosis_31_20_to_41.bin: detected 87% with avg distance 3\n",
    "    - 20231019-t1_siSpastin-50-2_mitosis_32_0_to_37.bin: detected 75% with avg distance 9\n",
    "\n",
    "- Cep55:\n",
    "    - 20231019-t1_siCep55-50-4_mitosis_5_8_to_228.bin: detected 100% with avg distance 70\n",
    "    - 20231019-t1_siCep55-50-4_mitosis_24_17_to_104.bin: detected 20% with avg distance 192\n",
    "    - 20231019-t1_siCep55-50-4_mitosis_29_18_to_81.bin: detected 100% with avg distance 127"
   ]
  }
 ],
 "metadata": {
  "kernelspec": {
   "display_name": "cut_detector",
   "language": "python",
   "name": "python3"
  },
  "language_info": {
   "name": "python",
   "version": "3.10.13"
  }
 },
 "nbformat": 4,
 "nbformat_minor": 2
}
